{
 "cells": [
  {
   "cell_type": "code",
   "execution_count": 4,
   "id": "74cf217e-edf9-4698-bfa8-1b93ea09f677",
   "metadata": {},
   "outputs": [
    {
     "name": "stdout",
     "output_type": "stream",
     "text": [
      "pygame 2.5.0 (SDL 2.28.0, Python 3.10.9)\n",
      "Hello from the pygame community. https://www.pygame.org/contribute.html\n"
     ]
    }
   ],
   "source": [
    "import pygame\n",
    "from sys import exit"
   ]
  },
  {
   "cell_type": "code",
   "execution_count": 7,
   "id": "8203086a-ff41-4896-8ec7-599792b044f4",
   "metadata": {},
   "outputs": [
    {
     "ename": "SystemExit",
     "evalue": "",
     "output_type": "error",
     "traceback": [
      "An exception has occurred, use %tb to see the full traceback.\n",
      "\u001b[1;31mSystemExit\u001b[0m\n"
     ]
    }
   ],
   "source": [
    "#intialisation\n",
    "pygame.init()\n",
    "\n",
    "#create window\n",
    "WIDTH = 800\n",
    "HEIGHT = 400\n",
    "screen = pygame.display.set_mode((WIDTH,HEIGHT))\n",
    "pygame.display.set_caption('my game')\n",
    "\n",
    "while True:\n",
    "    for event in pygame.event.get():\n",
    "        if event.type == pygame.QUIT:\n",
    "            pygame.quit()            #ensure quitting pygame works\n",
    "            exit()                   #prevents contradiction with the rest of the code\n",
    "    pygame.display.update()"
   ]
  }
 ],
 "metadata": {
  "kernelspec": {
   "display_name": "Python 3 (ipykernel)",
   "language": "python",
   "name": "python3"
  },
  "language_info": {
   "codemirror_mode": {
    "name": "ipython",
    "version": 3
   },
   "file_extension": ".py",
   "mimetype": "text/x-python",
   "name": "python",
   "nbconvert_exporter": "python",
   "pygments_lexer": "ipython3",
   "version": "3.10.9"
  }
 },
 "nbformat": 4,
 "nbformat_minor": 5
}
